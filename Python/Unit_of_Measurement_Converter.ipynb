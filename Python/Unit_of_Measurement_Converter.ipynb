{
  "nbformat": 4,
  "nbformat_minor": 0,
  "metadata": {
    "colab": {
      "provenance": [],
      "authorship_tag": "ABX9TyP4QbKAKLnWh9K9rVDiDPo2"
    },
    "kernelspec": {
      "name": "python3",
      "display_name": "Python 3"
    },
    "language_info": {
      "name": "python"
    }
  },
  "cells": [
    {
      "cell_type": "markdown",
      "source": [
        "# Unit of Measurement Converter"
      ],
      "metadata": {
        "id": "yrVXtoEgLEvJ"
      }
    },
    {
      "cell_type": "code",
      "source": [
        "convert_from = input(\"Enter Staring Unit of Measurement (inches, feet, or yards): \")\n",
        "\n",
        "convert_to = input(\"Enter Unit of Measurement to Convert to (inches, feet, or yards): \")\n",
        "\n",
        "number_of_inches = input(\"Enter Starting Measurement in Inches: \")\n",
        "\n",
        "number_of_feet = input(\"Enter Starting Measurement in Feet: \")\n",
        "\n",
        "number_of_yards = input(\"Enter Starting Measurement in Yards: \")"
      ],
      "metadata": {
        "colab": {
          "base_uri": "https://localhost:8080/"
        },
        "id": "hRmcaOapLXEK",
        "outputId": "3531a6a0-a7c9-4879-e43d-da91d9974019"
      },
      "execution_count": 3,
      "outputs": [
        {
          "name": "stdout",
          "output_type": "stream",
          "text": [
            "Enter Staring Unit of Measurement (inches, feet, or yards): inches\n",
            "Enter Unit of Measurement to Convert to (inches, feet, or yards): inches\n",
            "Enter Starting Measurement in Inches: 3\n",
            "Enter Starting Measurement in Feet: 3\n",
            "Enter Starting Measurement in Yards: 3\n"
          ]
        }
      ]
    },
    {
      "cell_type": "code",
      "source": [
        "convert_from = input(\"Enter Staring Unit of Measurement (inches, feet, or yards): \")\n",
        "\n",
        "convert_to = input(\"Enter Unit of Measurement to Convert to (inches, feet, or yards): \")\n",
        "\n",
        "if convert_from.lower() in [\"inches\", \"in\", \"inch\"]:\n",
        "  number_of_inches = int(input(\"Enter Starting Measurement in Inches: \"))\n",
        "  if convert_to.lower() in [\"feet\", \"foot\", \"ft\"]:\n",
        "   print(\"Result: \" + str(number_of_inches) + \" Inches = \" + str(round(number_of_inches / 12,2)) + \" Feet\")\n",
        "  elif convert_to.lower() in [\"yards\",\"yard\",\"yds\",\"yd\"]:\n",
        "    print(\"Result: \" + str(number_of_inches) + \" Inches = \" + str(round(number_of_inches / 36,2)) + \" Yards\")\n",
        "  else:\n",
        "    print(\"Please enter either Inches, Feet, or Yards.\")\n",
        "elif convert_from.lower() in [\"feet\", \"foot\", \"ft\"]:\n",
        "  number_of_feet = int(input(\"Enter Starting Measurement in Feet: \"))\n",
        "  if convert_to.lower() in [\"inches\", \"in\", \"inch\"]:\n",
        "   print(\"Result: \" + str(number_of_feet) + \" Feet = \" + str(round(number_of_feet * 12)) + \" Inches\")\n",
        "  elif convert_to.lower() in [\"yards\",\"yard\",\"yds\",\"yd\"]:\n",
        "    print(\"Result: \" + str(number_of_feet) + \" Feet = \" + str(round(number_of_feet / 3,2)) + \" Yards\")\n",
        "  else:\n",
        "    print(\"Please enter either Inches, Feet, or Yards.\")\n",
        "elif convert_from.lower() in [\"yards\",\"yard\",\"yds\",\"yd\"]:\n",
        "  number_of_yards = int(input(\"Enter Starting Measurement in Yards: \"))\n",
        "  if convert_to.lower() in [\"inches\", \"in\", \"inch\"]:\n",
        "   print(\"Result: \" + str(number_of_yards) + \" Yard(s) = \" + str(round(number_of_yards * 36)) + \" Inches\")\n",
        "  elif convert_to.lower() in [\"feet\", \"foot\", \"ft\"]:\n",
        "    print(\"Result: \" + str(number_of_yards) + \" Yard(s) = \" + str(round(number_of_yards * 3)) + \" Feet\")\n",
        "  else:\n",
        "    print(\"Please enter either Inches, Feet, or Yards.\")\n",
        "else:\n",
        "  print(\"Please enter either Inches, Feet, or Yards.\")"
      ],
      "metadata": {
        "colab": {
          "base_uri": "https://localhost:8080/"
        },
        "id": "j-o1Hs7HLnY2",
        "outputId": "66bb075b-a65d-4c69-c0be-d017d5138140"
      },
      "execution_count": 28,
      "outputs": [
        {
          "output_type": "stream",
          "name": "stdout",
          "text": [
            "Enter Staring Unit of Measurement (inches, feet, or yards): feet\n",
            "Enter Unit of Measurement to Convert to (inches, feet, or yards): yards\n",
            "Enter Starting Measurement in Feet: 3333\n",
            "Result: 3333 Feet = 1111.0 Yards\n"
          ]
        }
      ]
    },
    {
      "cell_type": "code",
      "source": [],
      "metadata": {
        "id": "LVRZMOoyQ3iN"
      },
      "execution_count": null,
      "outputs": []
    }
  ]
}
